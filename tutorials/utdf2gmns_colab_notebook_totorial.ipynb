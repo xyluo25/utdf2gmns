{
  "nbformat": 4,
  "nbformat_minor": 0,
  "metadata": {
    "colab": {
      "private_outputs": true,
      "provenance": [],
      "authorship_tag": "ABX9TyMz9I/vYYgXCd1bdA7g3rVa",
      "include_colab_link": true
    },
    "kernelspec": {
      "name": "python3",
      "display_name": "Python 3"
    },
    "language_info": {
      "name": "python"
    }
  },
  "cells": [
    {
      "cell_type": "markdown",
      "metadata": {
        "id": "view-in-github",
        "colab_type": "text"
      },
      "source": [
        "<a href=\"https://colab.research.google.com/github/xyluo25/utdf2gmns/blob/main/utdf2gmns_colab_notebook_totorial.ipynb\" target=\"_parent\"><img src=\"https://colab.research.google.com/assets/colab-badge.svg\" alt=\"Open In Colab\"/></a>"
      ]
    },
    {
      "cell_type": "markdown",
      "source": [
        "# Step 1: install utdf2gmns to your operationg system"
      ],
      "metadata": {
        "id": "pNVWsc-CESBS"
      }
    },
    {
      "cell_type": "code",
      "source": [
        "!pip install utdf2gmns"
      ],
      "metadata": {
        "id": "AuUqS-1wEFiy"
      },
      "execution_count": null,
      "outputs": []
    },
    {
      "cell_type": "markdown",
      "source": [
        "# Step2 clone git repository to get sample data\n",
        "You will see a new folder cloned from github named: utdf2gmns (you can see from sidebar files/utdf2gmns, if you can not see it, refresh the folder and you will see it)\n"
      ],
      "metadata": {
        "id": "FoKoIv-LEYN6"
      }
    },
    {
      "cell_type": "code",
      "source": [
        "!git clone https://github.com/xyluo25/utdf2gmns"
      ],
      "metadata": {
        "id": "9O73MZw1EyHJ"
      },
      "execution_count": null,
      "outputs": []
    },
    {
      "cell_type": "markdown",
      "source": [
        "# Step3 Test the package"
      ],
      "metadata": {
        "id": "QS1xJ4D6F1F2"
      }
    },
    {
      "cell_type": "markdown",
      "source": [
        "## 3.0 provide location name of your data, normally a city name"
      ],
      "metadata": {
        "id": "EGU95VEDIRK2"
      }
    },
    {
      "cell_type": "code",
      "source": [
        "import os\n",
        "\n",
        "city_name = \" Bullhead City, AZ\"\n",
        "\n",
        "# Sample data sets in folder utdf2gmns/datasets/data_bullhead_seg4\n",
        "# user have to prepare node.csv, movement.csv and UTDF.csv in same folder\n",
        "\n",
        "path = os.path.join(os.getcwd(), \"utdf2gmns/datasets/data_bullhead_seg4\")\n",
        "print(\"The input path folder is: \", path)"
      ],
      "metadata": {
        "id": "SJjjj5Q_Ien7"
      },
      "execution_count": null,
      "outputs": []
    },
    {
      "cell_type": "markdown",
      "source": [
        "## 3.1 Test utdf2gmns directly: generate movement_utdf.csv directly"
      ],
      "metadata": {
        "id": "7tRlC3Q_GucT"
      }
    },
    {
      "cell_type": "code",
      "source": [
        "from __future__ import absolute_import\n",
        "import os\n",
        "import utdf2gmns\n",
        "\n",
        "# generate results in one line of code\n",
        "res = utdf2gmns.generate_movement_utdf(path, city_name)"
      ],
      "metadata": {
        "id": "zbsx1N_hFuKK"
      },
      "execution_count": null,
      "outputs": []
    },
    {
      "cell_type": "markdown",
      "source": [
        "### 3.1.0 **We can view results from res**\n",
        "\n",
        "*res = [**df_movement_utdf**,  **dict_all_middle_data**]*\n",
        "\n",
        ":First element in res is a pandas dataframe that save movement_utdf\n",
        "\n",
        ":Second element in res is a dictonary save all middle data in generating movement_utdf.csv"
      ],
      "metadata": {
        "id": "fsT_yc07LOq5"
      }
    },
    {
      "cell_type": "code",
      "source": [
        "df_movement_utdf, dict_dataframes = res\n",
        "\n",
        "# show df_movement_utdf\n",
        "df_movement_utdf.head(10)"
      ],
      "metadata": {
        "id": "riw5q7GRLAl3"
      },
      "execution_count": null,
      "outputs": []
    },
    {
      "cell_type": "code",
      "source": [
        "# show intermediate data: all keys in the dict\n",
        "# data from UTDF.csv: \"Netowrk\", \"Nodes\", \"Links\", \"Lanes\", \"Timeplans\", \"Phases\", \"Phase_temeplans\"\n",
        "# data from processing: utdf_inersection -> utdf_geo -> utdf_geo_GMNS_node(match GMNS node with UTDF_geo) -> movement_tudf_phase\n",
        "\n",
        "print(dict_dataframes.keys())"
      ],
      "metadata": {
        "id": "Cg2BIc9OMjEK"
      },
      "execution_count": null,
      "outputs": []
    },
    {
      "cell_type": "code",
      "source": [
        "# For example, show utdf_geo\n",
        "\n",
        "dict_dataframes[\"utdf_geo\"].head(10)\n"
      ],
      "metadata": {
        "id": "dWtO034iNrRF"
      },
      "execution_count": null,
      "outputs": []
    },
    {
      "cell_type": "markdown",
      "source": [
        "## 3.2 Test utdf2gmns setp by step: generate movement_utdf.csv by showing all intermediate steps"
      ],
      "metadata": {
        "id": "3qI26gDqHIH2"
      }
    },
    {
      "cell_type": "code",
      "source": [
        "from __future__ import absolute_import\n",
        "import os\n",
        "import utdf2gmns as ug\n",
        "import pandas as pd\n",
        "\n",
        "# NOTE: generate movement_utdf.csv step by step (more flexible)\n",
        "\n",
        "path_utdf = os.path.join(os.getcwd(), path, \"UTDF.csv\")\n",
        "path_node = os.path.join(os.getcwd(), path, \"node.csv\")\n",
        "path_movement = os.path.join(os.getcwd(), path, \"movement.csv\")\n",
        "\n",
        "print(\"Step 1: read UTDF.csv\")\n",
        "utdf_dict_data = ug.generate_utdf_dataframes(path_utdf, city_name)\n",
        "\n",
        "print(\"Step 1.1: get intersection data from UTDF.csv\")\n",
        "df_intersection = utdf_dict_data[\"utdf_intersection\"]\n",
        "\n",
        "print(\"Step 1.2: geocoding intersection data\")\n",
        "df_intersection_geo = ug.generate_coordinates_from_intersection(df_intersection)\n",
        "\n",
        "print(\"Step 2: read node.csv and movement.csv\")\n",
        "df_node = pd.read_csv(path_node)\n",
        "df_movement = pd.read_csv(path_movement)\n",
        "\n",
        "print(\"Step 3: match intersection_geo and node\")\n",
        "df_intersection_node = ug.match_intersection_node(df_intersection_geo, df_node)\n",
        "\n",
        "print(\"Step 4: match movement and intersection_node\")\n",
        "df_movement_intersection = ug.match_movement_and_intersection_node(df_movement, df_intersection_node)\n",
        "\n",
        "print(\"Step 5: match movement and utdf_lane\")\n",
        "df_movement_utdf_lane = ug.match_movement_utdf_lane(df_movement_intersection, utdf_dict_data)\n",
        "\n",
        "print(\"Step 6: match movement and utdf_phase_timeplans\")\n",
        "df_movement_utdf_phase = ug.match_movement_utdf_phase_timeplans(df_movement_utdf_lane, utdf_dict_data)"
      ],
      "metadata": {
        "id": "efUabJHrHhT-"
      },
      "execution_count": null,
      "outputs": []
    },
    {
      "cell_type": "code",
      "source": [
        "# we can show data generated in each intermediate step\n",
        "\n",
        "df_intersection.head(10)"
      ],
      "metadata": {
        "id": "SKyCHwuCPGB6"
      },
      "execution_count": null,
      "outputs": []
    },
    {
      "cell_type": "code",
      "source": [
        "df_intersection_geo.head(10)"
      ],
      "metadata": {
        "id": "Gl2PQOmePbzR"
      },
      "execution_count": null,
      "outputs": []
    },
    {
      "cell_type": "code",
      "source": [
        "df_intersection_node.head(10)"
      ],
      "metadata": {
        "id": "coAe2hpKPfRg"
      },
      "execution_count": null,
      "outputs": []
    },
    {
      "cell_type": "code",
      "source": [
        "df_movement_intersection.head(5)"
      ],
      "metadata": {
        "id": "7lqHPcwyPq4o"
      },
      "execution_count": null,
      "outputs": []
    },
    {
      "cell_type": "code",
      "source": [
        "df_movement_utdf_lane.head(5)"
      ],
      "metadata": {
        "id": "_0uhzJs3Pxi4"
      },
      "execution_count": null,
      "outputs": []
    },
    {
      "cell_type": "code",
      "source": [
        "df_movement_utdf_phase.head(5)"
      ],
      "metadata": {
        "id": "xrM2G7ZKP2D4"
      },
      "execution_count": null,
      "outputs": []
    }
  ]
}